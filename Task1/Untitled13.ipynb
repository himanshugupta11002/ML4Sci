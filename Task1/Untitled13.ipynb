{
  "nbformat": 4,
  "nbformat_minor": 0,
  "metadata": {
    "colab": {
      "provenance": []
    },
    "kernelspec": {
      "name": "python3",
      "display_name": "Python 3"
    },
    "language_info": {
      "name": "python"
    }
  },
  "cells": [
    {
      "cell_type": "code",
      "source": [
        "import numpy as np"
      ],
      "metadata": {
        "id": "dZPQU-2ntJDP"
      },
      "execution_count": 3,
      "outputs": []
    },
    {
      "cell_type": "code",
      "source": [
        "import sympy as sp\n",
        "\n",
        "# Define symbols\n",
        "x = sp.symbols('x')\n",
        "\n",
        "# Define a list of functions for which you want to compute Taylor expansions\n",
        "functions = [\n",
        "    x**2,               # Polynomial function\n",
        "    sp.sin(x),          # Trigonometric functions\n",
        "    sp.cos(x),\n",
        "    sp.tan(x),\n",
        "    sp.exp(x),          # Exponential and logarithmic functions\n",
        "    sp.log(1 + x),      # Natural logarithm\n",
        "    sp.log(x + 2),      # Logarithm with base 3\n",
        "    sp.cosh(x),         # Hyperbolic functions\n",
        "    sp.sinh(x),\n",
        "    sp.tanh(x),\n",
        "    sp.erf(x),          # Special functions\n",
        "    sp.erfc(x),\n",
        "    sp.gamma(x),\n",
        "    sp.beta(x + 1, 2),  # Beta function with a shifted parameter\n",
        "    sp.sin(x**2),       # Composite functions\n",
        "    sp.exp(x**2),\n",
        "    sp.log(1 + x**2)\n",
        "]\n",
        "\n",
        "# Define the maximum order of the Taylor expansion\n",
        "max_order = 4\n",
        "\n",
        "# Generate Taylor expansions for each function\n",
        "taylor_expansions = {}\n",
        "for func in functions:\n",
        "    try:\n",
        "        taylor_expansions[str(func)] = [func.series(x, 0, n).removeO() for n in range(1, max_order + 1)]\n",
        "    except sp.PoleError:\n",
        "        # If the function cannot be expanded around 0, skip it\n",
        "        continue\n",
        "\n",
        "# Convert the SymPy expressions to strings for easier handling\n",
        "taylor_expansions = {key: [str(expansion) for expansion in value] for key, value in taylor_expansions.items()}\n",
        "\n",
        "# Write the dataset to a text file\n",
        "with open('taylor_dataset.txt', 'w') as file:\n",
        "    for func, expansions in taylor_expansions.items():\n",
        "        file.write(f'Function: {func}\\n')\n",
        "        for order, expansion in enumerate(expansions, start=1):\n",
        "            file.write(f'Order {order} Taylor Expansion: {expansion}\\n')\n",
        "        file.write('\\n')\n",
        "\n",
        "print(\"Dataset saved to 'taylor_dataset.txt'.\")\n"
      ],
      "metadata": {
        "colab": {
          "base_uri": "https://localhost:8080/"
        },
        "id": "cq2fci1ds00U",
        "outputId": "c80e72f3-199d-408f-d2f9-67342f9b97c4"
      },
      "execution_count": 6,
      "outputs": [
        {
          "output_type": "stream",
          "name": "stdout",
          "text": [
            "Dataset saved to 'taylor_dataset.txt'.\n"
          ]
        }
      ]
    }
  ]
}